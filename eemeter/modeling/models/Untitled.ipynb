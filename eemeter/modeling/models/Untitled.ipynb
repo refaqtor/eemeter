{
 "cells": [
  {
   "cell_type": "code",
   "execution_count": null,
   "metadata": {},
   "outputs": [],
   "source": []
  },
  {
   "cell_type": "code",
   "execution_count": 36,
   "metadata": {},
   "outputs": [],
   "source": [
    "import pandas as pd\n",
    "import statsmodels.formula.api as smf\n",
    "import numpy as np\n",
    "from sklearn.metrics import mean_squared_error\n",
    "from math import sqrt\n",
    "import statsmodels.formula.api as sm\n",
    "\n",
    "GAS_ENERGY = 'NATURAL_GAS_CONSUMPTION_SUPPLIED'\n",
    "ELECTREICITY_ENERGY = 'ELECTRICITY_CONSUMPTION_SUPPLIED'\n",
    "\n",
    "def read_savings_data(fname, energy_type):\n",
    "    df = pd.read_csv(fname)\n",
    "    if energy_type == GAS_ENERGY:\n",
    "        df = df[['heating_coefficient',\n",
    "                 'intercept_coefficient',\n",
    "                 'natural_gas_savings_thm']]\n",
    "    else:\n",
    "        df = df[['heating_coefficient',\n",
    "                 'cooling_coefficient',\n",
    "                 'intercept_coefficient',\n",
    "    \n",
    "                 'electricity_savings_kwh']]\n",
    "    return df\n",
    "\n",
    "\n"
   ]
  },
  {
   "cell_type": "code",
   "execution_count": 76,
   "metadata": {},
   "outputs": [],
   "source": [
    "df = read_savings_data('/vagrant/scripts/gas.csv', 'NATURAL_GAS_CONSUMPTION_SUPPLIED')\n",
    "df = pd.DataFrame(df, columns = ['natural_gas_savings_thm', 'heating_coefficient', 'intercept_coefficient'])\n",
    "result = sm.ols(formula=\"natural_gas_savings_thm ~ heating_coefficient + intercept_coefficient\", data=df).fit()\n",
    "a = (result.params)\n",
    "b = (result.summary())\n",
    "sm_pred = result.predict(df)\n",
    "df_2 = pd.DataFrame({'actual_value' : df['natural_gas_savings_thm'], \n",
    "                     'predicted_value' : sm_pred})\n",
    "\n",
    "\n"
   ]
  },
  {
   "cell_type": "code",
   "execution_count": 84,
   "metadata": {},
   "outputs": [
    {
     "data": {
      "text/plain": [
       "219.27293761661159"
      ]
     },
     "execution_count": 84,
     "metadata": {},
     "output_type": "execute_result"
    }
   ],
   "source": [
    "import math\n",
    "def rmse(dataframe):\n",
    "    result = 0.0\n",
    "    act = dataframe['actual_value']\n",
    "    pred = dataframe['predicted_value']\n",
    "    for index  in range(len(act)):\n",
    "        act_val_at_index = act[index]\n",
    "        pred_val_at_index = pred[index]\n",
    "        if np.isnan(act_val_at_index) or np.isnan(pred_val_at_index):\n",
    "            continue\n",
    "        error = pred_val_at_index-act_val_at_index\n",
    "        error = error * error\n",
    "        result = result + error  \n",
    "        \n",
    "    rmse = math.sqrt(result/len(act))    \n",
    "    return rmse\n",
    "rmse(df_2)\n",
    "\n",
    "def shrt_rmse()"
   ]
  },
  {
   "cell_type": "code",
   "execution_count": null,
   "metadata": {},
   "outputs": [],
   "source": []
  },
  {
   "cell_type": "code",
   "execution_count": null,
   "metadata": {},
   "outputs": [],
   "source": []
  }
 ],
 "metadata": {
  "kernelspec": {
   "display_name": "Python 2",
   "language": "python",
   "name": "python2"
  },
  "language_info": {
   "codemirror_mode": {
    "name": "ipython",
    "version": 2
   },
   "file_extension": ".py",
   "mimetype": "text/x-python",
   "name": "python",
   "nbconvert_exporter": "python",
   "pygments_lexer": "ipython2",
   "version": "2.7.6"
  }
 },
 "nbformat": 4,
 "nbformat_minor": 2
}
